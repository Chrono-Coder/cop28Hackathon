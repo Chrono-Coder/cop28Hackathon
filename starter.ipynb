{
 "cells": [
  {
   "cell_type": "markdown",
   "metadata": {},
   "source": [
    "***\n",
    "LIBRARIES: most required ones\n",
    "***"
   ]
  },
  {
   "cell_type": "code",
   "execution_count": 78,
   "metadata": {},
   "outputs": [
    {
     "name": "stdout",
     "output_type": "stream",
     "text": [
      "Requirement already satisfied: torch in c:\\users\\fakhera\\anaconda3\\envs\\ai\\lib\\site-packages (2.1.0)\n",
      "Requirement already satisfied: torchvision in c:\\users\\fakhera\\anaconda3\\envs\\ai\\lib\\site-packages (0.16.0)\n",
      "Requirement already satisfied: torchsummary in c:\\users\\fakhera\\anaconda3\\envs\\ai\\lib\\site-packages (1.5.1)\n",
      "Requirement already satisfied: filelock in c:\\users\\fakhera\\anaconda3\\envs\\ai\\lib\\site-packages (from torch) (3.13.1)\n",
      "Requirement already satisfied: typing-extensions in c:\\users\\fakhera\\anaconda3\\envs\\ai\\lib\\site-packages (from torch) (4.8.0)\n",
      "Requirement already satisfied: sympy in c:\\users\\fakhera\\anaconda3\\envs\\ai\\lib\\site-packages (from torch) (1.12)\n",
      "Requirement already satisfied: networkx in c:\\users\\fakhera\\anaconda3\\envs\\ai\\lib\\site-packages (from torch) (3.2.1)\n",
      "Requirement already satisfied: jinja2 in c:\\users\\fakhera\\anaconda3\\envs\\ai\\lib\\site-packages (from torch) (3.1.2)\n",
      "Requirement already satisfied: fsspec in c:\\users\\fakhera\\anaconda3\\envs\\ai\\lib\\site-packages (from torch) (2023.10.0)\n",
      "Requirement already satisfied: numpy in c:\\users\\fakhera\\anaconda3\\envs\\ai\\lib\\site-packages (from torchvision) (1.26.2)\n",
      "Requirement already satisfied: requests in c:\\users\\fakhera\\anaconda3\\envs\\ai\\lib\\site-packages (from torchvision) (2.31.0)\n",
      "Requirement already satisfied: pillow!=8.3.*,>=5.3.0 in c:\\users\\fakhera\\anaconda3\\envs\\ai\\lib\\site-packages (from torchvision) (10.1.0)\n",
      "Requirement already satisfied: MarkupSafe>=2.0 in c:\\users\\fakhera\\anaconda3\\envs\\ai\\lib\\site-packages (from jinja2->torch) (2.1.3)\n",
      "Requirement already satisfied: charset-normalizer<4,>=2 in c:\\users\\fakhera\\anaconda3\\envs\\ai\\lib\\site-packages (from requests->torchvision) (3.3.2)\n",
      "Requirement already satisfied: idna<4,>=2.5 in c:\\users\\fakhera\\anaconda3\\envs\\ai\\lib\\site-packages (from requests->torchvision) (3.4)\n",
      "Requirement already satisfied: urllib3<3,>=1.21.1 in c:\\users\\fakhera\\anaconda3\\envs\\ai\\lib\\site-packages (from requests->torchvision) (2.1.0)\n",
      "Requirement already satisfied: certifi>=2017.4.17 in c:\\users\\fakhera\\anaconda3\\envs\\ai\\lib\\site-packages (from requests->torchvision) (2023.7.22)\n",
      "Requirement already satisfied: mpmath>=0.19 in c:\\users\\fakhera\\anaconda3\\envs\\ai\\lib\\site-packages (from sympy->torch) (1.3.0)\n",
      "Note: you may need to restart the kernel to use updated packages.\n"
     ]
    }
   ],
   "source": [
    "%pip install torch torchvision torchsummary"
   ]
  },
  {
   "cell_type": "code",
   "execution_count": 79,
   "metadata": {},
   "outputs": [],
   "source": [
    "from tqdm import tqdm # progress bar\n",
    "import matplotlib.pyplot as plt # plot\n",
    "\n",
    "\n",
    "import torch # pytorch\n",
    "import torch.nn as nn # neural network\n",
    "import torch.optim as optim # optimizer\n",
    "from torchsummary import summary # model summary (architecture)\n",
    "from torch.utils.data import DataLoader, random_split # dataloader, dataset split\n",
    "from torchvision import transforms,datasets # image processing, datasets\n",
    "import torchvision.models as models # pretrained models\n",
    "\n",
    "DATA_PATH = './dataset'"
   ]
  },
  {
   "cell_type": "markdown",
   "metadata": {},
   "source": [
    "***\n",
    "DATA LOADING\n",
    "***"
   ]
  },
  {
   "cell_type": "code",
   "execution_count": 80,
   "metadata": {},
   "outputs": [],
   "source": [
    "#Transformation for image\n",
    "transform_ori = transforms.Compose([transforms.RandomResizedCrop(128),   #create 64x64 image\n",
    "                                    transforms.RandomHorizontalFlip(),    #flipping the image horizontally\n",
    "                                    transforms.ToTensor(),                 #convert the image to a Tensor\n",
    "                                    transforms.Normalize(mean=[0.485, 0.456, 0.406], std=[0.229, 0.224, 0.225])])  #normalize the image\n",
    "                                    "
   ]
  },
  {
   "cell_type": "code",
   "execution_count": 81,
   "metadata": {},
   "outputs": [],
   "source": [
    "dataset = datasets.ImageFolder(root = DATA_PATH, transform=transform_ori)\n",
    "data_size = len(dataset)"
   ]
  },
  {
   "cell_type": "code",
   "execution_count": 82,
   "metadata": {},
   "outputs": [],
   "source": [
    "test_size = int(data_size * 0.25)\n",
    "train_size = int(data_size * 0.75)\n",
    "generator = torch.Generator().manual_seed(42)\n",
    "training, testing = random_split(dataset, [train_size, test_size], generator=generator)"
   ]
  },
  {
   "cell_type": "code",
   "execution_count": 83,
   "metadata": {},
   "outputs": [],
   "source": [
    "#Make the dataset iterable\n",
    "batch_size = 32\n",
    "train_load = DataLoader(dataset = training, \n",
    "                                         batch_size = batch_size,\n",
    "                                         shuffle = True) \n",
    "\n",
    "test_load = torch.utils.data.DataLoader(dataset = testing, \n",
    "                                         batch_size = batch_size,\n",
    "                                         shuffle = False)"
   ]
  },
  {
   "cell_type": "markdown",
   "metadata": {},
   "source": [
    "***\n",
    "ARCHITECTURE DEFINING\n",
    "***"
   ]
  },
  {
   "cell_type": "code",
   "execution_count": 115,
   "metadata": {},
   "outputs": [
    {
     "name": "stdout",
     "output_type": "stream",
     "text": [
      "Net(\n",
      "  (conv1): Conv2d(3, 64, kernel_size=(5, 5), stride=(1, 1), padding=(2, 2))\n",
      "  (maxpool): MaxPool2d(kernel_size=2, stride=2, padding=0, dilation=1, ceil_mode=False)\n",
      "  (lastcnn): Linear(in_features=262144, out_features=5, bias=True)\n",
      "  (relu): ReLU()\n",
      ")\n"
     ]
    }
   ],
   "source": [
    "# Create a neural net class\n",
    "class Net(nn.Module):\n",
    "    \n",
    "    \n",
    "    # Defining the Constructor\n",
    "    def __init__(self, num_classes=5):\n",
    "        super(Net, self).__init__()\n",
    "        \n",
    "        self.conv1 = nn.Conv2d(in_channels=3, out_channels=64, kernel_size=5, stride=1, padding=2)\n",
    "        self.maxpool = nn.MaxPool2d(kernel_size=2, stride=2)\n",
    "        self.lastcnn = nn.Linear(in_features=64 * 64 * 64, out_features=5)   \n",
    "        self.relu=nn.ReLU()     \n",
    "\n",
    "        \n",
    "    def forward(self, x):\n",
    "        x = self.conv1(x)\n",
    "        x = self.maxpool(x) \n",
    "        # x = torch.flatten(x)  \n",
    "        x = x.view(x.size(0), -1)    \n",
    "        x = self.lastcnn(x)   \n",
    "        x=self.relu(x)     \n",
    "        return torch.log_softmax(x, dim=1)\n",
    "    \n",
    "    # def conv_block(self, c_in, c_out, dropout, **kwargs):\n",
    "    #     seq_block = nn.Sequential(\n",
    "    #         nn.Conv2d(in_channels=c_in, out_channels=c_out, **kwargs),\n",
    "    #         nn.BatchNorm2d(num_features=c_out),\n",
    "    #         nn.ReLU(),\n",
    "    #         nn.Dropout2d(p=dropout)\n",
    "    #     )        \n",
    "    #     return seq_block\n",
    "    \n",
    "device = \"cpu\"\n",
    "if (torch.cuda.is_available()):\n",
    "    # if GPU available, use cuda (on a cpu, training will take a considerable length of time!)\n",
    "    device = \"cuda\"\n",
    "\n",
    "# Create an instance of the model class and allocate it to the device\n",
    "model = Net(num_classes=5).to(device)\n",
    "\n",
    "print(model)"
   ]
  },
  {
   "cell_type": "markdown",
   "metadata": {},
   "source": [
    "***\n",
    "OBJECTS: CRITERION, OPTIMIZER, SCHEDULER(maybe)\n",
    "***"
   ]
  },
  {
   "cell_type": "code",
   "execution_count": 116,
   "metadata": {},
   "outputs": [],
   "source": [
    "model = Net()\n",
    "criterion = nn.CrossEntropyLoss()\n",
    "optimizer = optim.Adam(model.parameters(), lr=0.005)"
   ]
  },
  {
   "cell_type": "markdown",
   "metadata": {},
   "source": [
    "***\n",
    "TRAINING AND VALIDATION: Validation not neccessary but recommended\n",
    "***"
   ]
  },
  {
   "cell_type": "code",
   "execution_count": 117,
   "metadata": {},
   "outputs": [],
   "source": [
    "def multi_acc(y_pred, y_test):\n",
    "    y_pred_softmax = torch.log_softmax(y_pred, dim = 1)\n",
    "    _, y_pred_tags = torch.max(y_pred_softmax, dim = 1)        \n",
    "    correct_pred = (y_pred_tags == y_test).float()\n",
    "    acc = correct_pred.sum() / len(correct_pred)    \n",
    "    acc = torch.round(acc * 100)    \n",
    "    return acc"
   ]
  },
  {
   "cell_type": "code",
   "execution_count": 118,
   "metadata": {},
   "outputs": [],
   "source": [
    "accuracy_stats = {\n",
    "    'train': [],\n",
    "    \"val\": []\n",
    "}\n",
    "loss_stats = {\n",
    "    'train': [],\n",
    "    \"val\": []\n",
    "}"
   ]
  },
  {
   "cell_type": "code",
   "execution_count": 119,
   "metadata": {},
   "outputs": [],
   "source": [
    "# print(\"Begin training.\")\n",
    "# for e in tqdm(range(1,2)):    # TRAINING    train_epoch_loss = 0\n",
    "#     train_epoch_loss =0\n",
    "#     train_epoch_acc = 0    \n",
    "    \n",
    "#     model.train()\n",
    "#     for X_train_batch, y_train_batch in train_load:\n",
    "#         X_train_batch, y_train_batch = X_train_batch.to(device), y_train_batch.to(device)        \n",
    "#         optimizer.zero_grad()        \n",
    "#         y_train_pred = model(X_train_batch).squeeze()        \n",
    "#         train_loss = criterion(y_train_pred, y_train_batch)\n",
    "#         train_acc = multi_acc(y_train_pred, y_train_batch)        \n",
    "#         train_loss.backward()\n",
    "#         optimizer.step()        \n",
    "#         train_epoch_loss += train_loss.item()\n",
    "#         train_epoch_acc += train_acc.item()\n",
    "#     # # VALIDATION\n",
    "#     # with torch.no_grad():\n",
    "#     #     model.eval()\n",
    "#     #     val_epoch_loss = 0\n",
    "#     #     val_epoch_acc = 0\n",
    "#     #     for X_val_batch, y_val_batch in val_loader:\n",
    "#     #         X_val_batch, y_val_batch = X_val_batch.to(device), y_val_batch.to(device)            \n",
    "#     #         y_val_pred = model(X_val_batch).squeeze()            \n",
    "#     #         y_val_pred = torch.unsqueeze(y_val_pred, 0)            \n",
    "#     #         val_loss = criterion(y_val_pred, y_val_batch)\n",
    "#     #         val_acc = multi_acc(y_val_pred, y_val_batch)            \n",
    "#     #         val_epoch_loss += train_loss.item()\n",
    "#     #         val_epoch_acc += train_acc.item()    \n",
    "#     #         loss_stats['train'].append(train_epoch_loss/len(train_loader))\n",
    "#     # loss_stats['val'].append(val_epoch_loss/len(val_loader))\n",
    "#     accuracy_stats['train'].append(train_epoch_acc/len(train_load))\n",
    "#     # accuracy_stats['val'].append(val_epoch_acc/len(val_loader))\n",
    "#     print(f'Epoch {e+0:02}: | Train Loss: {train_epoch_loss/len(train_load):.5f} | Train Acc: {train_epoch_acc/len(train_load):.3f}')"
   ]
  },
  {
   "cell_type": "code",
   "execution_count": 120,
   "metadata": {},
   "outputs": [],
   "source": [
    "def test(model, device, test_loader):\n",
    "    # Switch the model to evaluation mode (so we don't backpropagate or drop)\n",
    "    model.eval()\n",
    "    test_loss = 0\n",
    "    correct = 0\n",
    "    with torch.no_grad():\n",
    "        batch_count = 0\n",
    "        for data, target in test_loader:\n",
    "            batch_count += 1\n",
    "            data, target = data.to(device), target.to(device)\n",
    "            \n",
    "            # Get the predicted classes for this batch\n",
    "            output = model(data)\n",
    "            \n",
    "            # Calculate the loss for this batch\n",
    "            test_loss += criterion(output, target).item()\n",
    "            \n",
    "            # Calculate the accuracy for this batch\n",
    "            _, predicted = torch.max(output.data, 1)\n",
    "            correct += torch.sum(target==predicted).item()\n",
    "\n",
    "    # Calculate the average loss and total accuracy for this epoch\n",
    "    avg_loss = test_loss / batch_count\n",
    "    print('Validation set: Average loss: {:.6f}, Accuracy: {}/{} ({:.0f}%)\\n'.format(\n",
    "        avg_loss, correct, len(test_loader.dataset),\n",
    "        100. * correct / len(test_loader.dataset)))\n",
    "    \n",
    "    # return average loss for the epoch\n",
    "    return avg_loss"
   ]
  },
  {
   "cell_type": "code",
   "execution_count": 121,
   "metadata": {},
   "outputs": [],
   "source": [
    "def train(model, device, train_loader, optimizer, epoch):\n",
    "    # Set the model to training mode\n",
    "    model.train()\n",
    "    train_loss = 0\n",
    "    print(\"Epoch:\", epoch)\n",
    "    # Process the images in batches\n",
    "    for batch_idx, (data, target) in enumerate(train_loader):\n",
    "        # Use the CPU or GPU as appropriate\n",
    "        # Recall that GPU is optimized for the operations we are dealing with\n",
    "        data, target = data.to(device), target.to(device)\n",
    "        \n",
    "        # Reset the optimizer\n",
    "        optimizer.zero_grad()\n",
    "        \n",
    "        # Push the data forward through the model layers\n",
    "        output = model(data)\n",
    "        \n",
    "        # Get the loss\n",
    "        loss = criterion(output, target)\n",
    "\n",
    "        # Keep a running total\n",
    "        train_loss += loss.item()\n",
    "        \n",
    "        # Backpropagate\n",
    "        loss.backward()\n",
    "        optimizer.step()\n",
    "        \n",
    "        # Print metrics so we see some progress\n",
    "        print('\\tTraining batch {} Loss: {:.6f}'.format(batch_idx + 1, loss.item()))\n",
    "            \n",
    "    # return average loss for the epoch\n",
    "    avg_loss = train_loss / (batch_idx+1)\n",
    "    print('Training set: Average loss: {:.6f}'.format(avg_loss))\n",
    "    return avg_loss"
   ]
  },
  {
   "cell_type": "code",
   "execution_count": 122,
   "metadata": {},
   "outputs": [
    {
     "name": "stdout",
     "output_type": "stream",
     "text": [
      "Training on cpu\n",
      "Epoch: 1\n",
      "\tTraining batch 1 Loss: 1.522736\n",
      "\tTraining batch 2 Loss: 227.914352\n",
      "\tTraining batch 3 Loss: 40.661289\n",
      "\tTraining batch 4 Loss: 87.397316\n",
      "\tTraining batch 5 Loss: 15.382833\n",
      "\tTraining batch 6 Loss: 14.122752\n",
      "\tTraining batch 7 Loss: 58.850834\n",
      "\tTraining batch 8 Loss: 28.779690\n",
      "\tTraining batch 9 Loss: 1.190001\n",
      "\tTraining batch 10 Loss: 1.059446\n",
      "\tTraining batch 11 Loss: 15.690999\n",
      "\tTraining batch 12 Loss: 27.891432\n",
      "\tTraining batch 13 Loss: 12.094986\n",
      "\tTraining batch 14 Loss: 0.502950\n",
      "\tTraining batch 15 Loss: 0.502977\n",
      "\tTraining batch 16 Loss: 2.027539\n",
      "\tTraining batch 17 Loss: 0.653834\n",
      "\tTraining batch 18 Loss: 0.653834\n",
      "\tTraining batch 19 Loss: 0.502949\n",
      "\tTraining batch 20 Loss: 0.603539\n",
      "\tTraining batch 21 Loss: 1.124825\n",
      "\tTraining batch 22 Loss: 0.603539\n",
      "\tTraining batch 23 Loss: 0.855014\n",
      "\tTraining batch 24 Loss: 0.502949\n",
      "\tTraining batch 25 Loss: 0.402359\n",
      "\tTraining batch 26 Loss: 0.653834\n",
      "\tTraining batch 27 Loss: 0.452654\n",
      "\tTraining batch 28 Loss: 0.603539\n",
      "\tTraining batch 29 Loss: 0.704129\n",
      "\tTraining batch 30 Loss: 0.452654\n",
      "\tTraining batch 31 Loss: 0.452654\n",
      "\tTraining batch 32 Loss: 0.454887\n",
      "\tTraining batch 33 Loss: 0.653834\n",
      "\tTraining batch 34 Loss: 0.603539\n",
      "\tTraining batch 35 Loss: 0.653834\n",
      "\tTraining batch 36 Loss: 0.965663\n",
      "Training set: Average loss: 15.226283\n",
      "Validation set: Average loss: 0.571467, Accuracy: 375/375 (100%)\n",
      "\n"
     ]
    }
   ],
   "source": [
    "epoch_nums = []\n",
    "training_loss = []\n",
    "validation_loss = []\n",
    "\n",
    "# Train over 10 epochs (We restrict to 10 for time issues)\n",
    "epochs = 1\n",
    "print('Training on', device)\n",
    "for epoch in range(1, epochs + 1):\n",
    "        train_loss = train(model, device, train_load, optimizer, epoch)\n",
    "        test_loss = test(model, device, test_load)\n",
    "        epoch_nums.append(epoch)\n",
    "        training_loss.append(train_loss)\n",
    "        validation_loss.append(test_loss)"
   ]
  },
  {
   "cell_type": "markdown",
   "metadata": {},
   "source": [
    "***\n",
    "PLOTTING: Loss & Accuracy\n",
    "***"
   ]
  },
  {
   "cell_type": "code",
   "execution_count": 113,
   "metadata": {},
   "outputs": [
    {
     "data": {
      "image/png": "[encoded data removed]",
      "text/plain": [
       "<Figure size 1500x1500 with 1 Axes>"
      ]
     },
     "metadata": {},
     "output_type": "display_data"
    }
   ],
   "source": [
    "plt.figure(figsize=(15,15))\n",
    "plt.plot(epoch_nums, training_loss)\n",
    "plt.plot(epoch_nums, validation_loss)\n",
    "plt.xlabel('epoch')\n",
    "plt.ylabel('loss')\n",
    "plt.legend(['training', 'validation'], loc='upper right')\n",
    "plt.show()"
   ]
  },
  {
   "cell_type": "markdown",
   "metadata": {},
   "source": [
    "***\n",
    "SAVING\n",
    "***"
   ]
  },
  {
   "cell_type": "code",
   "execution_count": 114,
   "metadata": {},
   "outputs": [],
   "source": [
    "width,height = 128,128\n",
    "x = torch.Tensor(1, 3, width, height)\n",
    "with torch.no_grad():\n",
    "    traced_cell = torch.jit.trace(model, (x))\n",
    "model_name = \"./models/C_team2.pt\" # CHANGE THIS TO YOUR OWN PATH (most improtatnt step)\n",
    "torch.jit.save(traced_cell, model_name)\n",
    "\n",
    "\n",
    "# torch.save () this is not allowed because it requires class definition before loading for the \n",
    "# model evaluation"
   ]
  },
  {
   "cell_type": "code",
   "execution_count": null,
   "metadata": {},
   "outputs": [],
   "source": []
  }
 ],
 "metadata": {
  "kernelspec": {
   "display_name": "base",
   "language": "python",
   "name": "python3"
  },
  "language_info": {
   "codemirror_mode": {
    "name": "ipython",
    "version": 3
   },
   "file_extension": ".py",
   "mimetype": "text/x-python",
   "name": "python",
   "nbconvert_exporter": "python",
   "pygments_lexer": "ipython3",
   "version": "3.11.5"
  }
 },
 "nbformat": 4,
 "nbformat_minor": 2
}
